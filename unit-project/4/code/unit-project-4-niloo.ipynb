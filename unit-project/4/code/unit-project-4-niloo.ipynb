{
 "cells": [
  {
   "cell_type": "markdown",
   "metadata": {},
   "source": [
    "# DS-SF-27 | Unit Project 4: Notebook with Executive Summary\n",
    "\n",
    "In this project, you will summarize and present your analysis from Unit Projects 1-3."
   ]
  },
  {
   "cell_type": "code",
   "execution_count": 2,
   "metadata": {
    "collapsed": true
   },
   "outputs": [],
   "source": [
    "import os\n",
    "\n",
    "import numpy as np\n",
    "import pandas as pd\n",
    "pd.set_option('display.max_rows', 10)\n",
    "pd.set_option('display.max_columns', 10)\n",
    "pd.set_option('display.notebook_repr_html', True)\n",
    "\n",
    "import statsmodels.formula.api as smf\n",
    "\n",
    "from sklearn import linear_model"
   ]
  },
  {
   "cell_type": "code",
   "execution_count": 3,
   "metadata": {
    "collapsed": false
   },
   "outputs": [],
   "source": [
    "df = pd.read_csv(os.path.join('..', '..', 'dataset', 'ucla-admissions.csv'))\n",
    "df.dropna(inplace = True)"
   ]
  },
  {
   "cell_type": "markdown",
   "metadata": {},
   "source": [
    "> ## Question 1.  Introduction\n",
    "> Write a problem statement for this project."
   ]
  },
  {
   "cell_type": "markdown",
   "metadata": {},
   "source": [
    "Answer: Using data from the UCLA admissions dataset, determine if there is an association between admission into UCLA and a students high school prestige."
   ]
  },
  {
   "cell_type": "markdown",
   "metadata": {},
   "source": [
    "> ## Question 2.  Dataset\n",
    "> Write up a description of your data and any cleaning that was completed."
   ]
  },
  {
   "cell_type": "markdown",
   "metadata": {},
   "source": [
    "Answer: The dataset had 400 observations initially and was reduced to 397 once I removed observations that were not a number. The dataset included the four variables shown below.\n",
    "\n",
    "Variable | Description | Type of Variable\n",
    "---|---|---\n",
    "`admit` | 0 = Not admitted, 1 = Admitted | Categorical\n",
    "`gre` | GRE (range: 200-800) | Continuous\n",
    "`gpa` | GPA (range: 0-4.0) | Continuous\n",
    "`prestige` | 1 = Highest prestige, 2, 3, 4 = Not prestigious | Categorical"
   ]
  },
  {
   "cell_type": "markdown",
   "metadata": {
    "collapsed": true
   },
   "source": [
    "> ## Question 3.  Demo\n",
    "> Provide a table that explains the data by admission status."
   ]
  },
  {
   "cell_type": "markdown",
   "metadata": {},
   "source": [
    "Answer:"
   ]
  },
  {
   "cell_type": "code",
   "execution_count": 4,
   "metadata": {
    "collapsed": false
   },
   "outputs": [
    {
     "data": {
      "text/html": [
       "<div>\n",
       "<table border=\"1\" class=\"dataframe\">\n",
       "  <thead>\n",
       "    <tr style=\"text-align: right;\">\n",
       "      <th></th>\n",
       "      <th></th>\n",
       "      <th>admit</th>\n",
       "      <th>0</th>\n",
       "      <th>1</th>\n",
       "    </tr>\n",
       "    <tr>\n",
       "      <th>prestige</th>\n",
       "      <th>gre</th>\n",
       "      <th>gpa</th>\n",
       "      <th></th>\n",
       "      <th></th>\n",
       "    </tr>\n",
       "  </thead>\n",
       "  <tbody>\n",
       "    <tr>\n",
       "      <th rowspan=\"5\" valign=\"top\">1.0</th>\n",
       "      <th>340.0</th>\n",
       "      <th>2.90</th>\n",
       "      <td>1</td>\n",
       "      <td>0</td>\n",
       "    </tr>\n",
       "    <tr>\n",
       "      <th>360.0</th>\n",
       "      <th>3.14</th>\n",
       "      <td>1</td>\n",
       "      <td>0</td>\n",
       "    </tr>\n",
       "    <tr>\n",
       "      <th rowspan=\"2\" valign=\"top\">420.0</th>\n",
       "      <th>2.96</th>\n",
       "      <td>1</td>\n",
       "      <td>0</td>\n",
       "    </tr>\n",
       "    <tr>\n",
       "      <th>3.02</th>\n",
       "      <td>1</td>\n",
       "      <td>0</td>\n",
       "    </tr>\n",
       "    <tr>\n",
       "      <th>440.0</th>\n",
       "      <th>3.22</th>\n",
       "      <td>1</td>\n",
       "      <td>0</td>\n",
       "    </tr>\n",
       "    <tr>\n",
       "      <th>...</th>\n",
       "      <th>...</th>\n",
       "      <th>...</th>\n",
       "      <td>...</td>\n",
       "      <td>...</td>\n",
       "    </tr>\n",
       "    <tr>\n",
       "      <th rowspan=\"5\" valign=\"top\">4.0</th>\n",
       "      <th>740.0</th>\n",
       "      <th>3.74</th>\n",
       "      <td>1</td>\n",
       "      <td>0</td>\n",
       "    </tr>\n",
       "    <tr>\n",
       "      <th rowspan=\"2\" valign=\"top\">780.0</th>\n",
       "      <th>3.63</th>\n",
       "      <td>0</td>\n",
       "      <td>1</td>\n",
       "    </tr>\n",
       "    <tr>\n",
       "      <th>3.87</th>\n",
       "      <td>1</td>\n",
       "      <td>0</td>\n",
       "    </tr>\n",
       "    <tr>\n",
       "      <th rowspan=\"2\" valign=\"top\">800.0</th>\n",
       "      <th>3.15</th>\n",
       "      <td>1</td>\n",
       "      <td>0</td>\n",
       "    </tr>\n",
       "    <tr>\n",
       "      <th>4.00</th>\n",
       "      <td>1</td>\n",
       "      <td>0</td>\n",
       "    </tr>\n",
       "  </tbody>\n",
       "</table>\n",
       "<p>389 rows × 2 columns</p>\n",
       "</div>"
      ],
      "text/plain": [
       "admit                0  1\n",
       "prestige gre   gpa       \n",
       "1.0      340.0 2.90  1  0\n",
       "         360.0 3.14  1  0\n",
       "         420.0 2.96  1  0\n",
       "               3.02  1  0\n",
       "         440.0 3.22  1  0\n",
       "...                 .. ..\n",
       "4.0      740.0 3.74  1  0\n",
       "         780.0 3.63  0  1\n",
       "               3.87  1  0\n",
       "         800.0 3.15  1  0\n",
       "               4.00  1  0\n",
       "\n",
       "[389 rows x 2 columns]"
      ]
     },
     "execution_count": 4,
     "metadata": {},
     "output_type": "execute_result"
    }
   ],
   "source": [
    "pd.crosstab([df.prestige, df.gre, df.gpa], df.admit)"
   ]
  },
  {
   "cell_type": "markdown",
   "metadata": {},
   "source": [
    "> ## Question 4. Methods\n",
    "> Write up the methods used in your analysis."
   ]
  },
  {
   "cell_type": "markdown",
   "metadata": {},
   "source": [
    "Answer:.\n",
    "1. Check for missing data and remove observations.\n",
    "2. Explore the data and the relationships between variables using boxplots and histograms.\n",
    "3. Check for colinearity using a correlation.\n",
    "4. Check for normal distribution using qqplots.\n",
    "5. Try to model the association between admittance and high school prestige using statsmodel and sklearn."
   ]
  },
  {
   "cell_type": "markdown",
   "metadata": {},
   "source": [
    "> ## Question 5. Results\n",
    "> Write up your results."
   ]
  },
  {
   "cell_type": "markdown",
   "metadata": {},
   "source": [
    "Answer: If we hold GPA and GRE constant, it can be seen that there is a relationship between admittance and high school prestige. As expected, students from prestige 1 schools are more likely to be admitted into UCLA. Using sklearn to model the relationship, it can be seen that a prestige 1 student has a 71% probability of being admitted. The probabilities decrease to 57%, 41%, and 34% for students from prestige 2, 3, and 4 high schools respectively. Using statsmodel, these results are similar yielding results of 73%, 58%, 42%, and 37% for high school prestige 1, 2, 3, 4 respectively."
   ]
  },
  {
   "cell_type": "markdown",
   "metadata": {},
   "source": [
    "> ## Question 6. Visuals\n",
    "> Provide a table or visualization of these results."
   ]
  },
  {
   "cell_type": "markdown",
   "metadata": {},
   "source": [
    "Answer:\n",
    "\n",
    "High School Prestige | Probability of Admittance | GPA | GRE\n",
    "---|---|---|---\n",
    "`1` | 71% | 4.0 | 800\n",
    "`2` | 57% | 4.0 | 800\n",
    "`3` | 41% | 4.0 | 800\n",
    "`4` | 34% | 4.0 | 800"
   ]
  },
  {
   "cell_type": "code",
   "execution_count": 5,
   "metadata": {
    "collapsed": false
   },
   "outputs": [
    {
     "data": {
      "text/plain": [
       "array([[ 0.28814605,  0.71185395],\n",
       "       [ 0.43153702,  0.56846298],\n",
       "       [ 0.58608936,  0.41391064],\n",
       "       [ 0.66024514,  0.33975486]])"
      ]
     },
     "execution_count": 5,
     "metadata": {},
     "output_type": "execute_result"
    }
   ],
   "source": [
    "prestige_df = pd.get_dummies(df.prestige, prefix = 'prestige')\n",
    "\n",
    "prestige_df.rename(columns = {'prestige_1.0': 'prestige_1',\n",
    "                              'prestige_2.0': 'prestige_2',\n",
    "                              'prestige_3.0': 'prestige_3',\n",
    "                              'prestige_4.0': 'prestige_4'}, inplace = True)\n",
    "\n",
    "df = df[ ['admit', 'gre', 'gpa'] ].join(prestige_df)\n",
    "\n",
    "X = df[ ['gre', 'gpa', 'prestige_2', 'prestige_3', 'prestige_4'] ]\n",
    "y = df.admit\n",
    "\n",
    "predict_X = pd.DataFrame({'intercept': [1, 1, 1, 1],\n",
    "    'gre': [800, 800, 800, 800],\n",
    "    'gpa': [4, 4, 4, 4],\n",
    "    'prestige_2': [0, 1, 0, 0],\n",
    "    'prestige_3': [0, 0, 1, 0],\n",
    "    'prestige_4': [0, 0, 0, 1]})\n",
    "\n",
    "model = linear_model.LogisticRegression(C = 10 ** 2).fit(X, y)\n",
    "predict_X\n",
    "predict_X.drop('intercept', axis = 1, inplace = True)\n",
    "model.predict_proba(predict_X[ ['gre', 'gpa', 'prestige_2', 'prestige_3', 'prestige_4'] ])"
   ]
  },
  {
   "cell_type": "markdown",
   "metadata": {},
   "source": [
    "> ## Question 7.  Discussion\n",
    "> Write up your discussion and future steps."
   ]
  },
  {
   "cell_type": "markdown",
   "metadata": {},
   "source": [
    "Answer: Using the UCLA dataset, it is evident that students that graduate from more prestigious undergraduate programs are more likely to get into UCLA. Some interesting future data explorations would be to consider how these probabilties change as a student's GRE and GPA scores decrease. "
   ]
  }
 ],
 "metadata": {
  "anaconda-cloud": {},
  "kernelspec": {
   "display_name": "Python [Root]",
   "language": "python",
   "name": "Python [Root]"
  },
  "language_info": {
   "codemirror_mode": {
    "name": "ipython",
    "version": 2
   },
   "file_extension": ".py",
   "mimetype": "text/x-python",
   "name": "python",
   "nbconvert_exporter": "python",
   "pygments_lexer": "ipython2",
   "version": "2.7.12"
  }
 },
 "nbformat": 4,
 "nbformat_minor": 0
}
